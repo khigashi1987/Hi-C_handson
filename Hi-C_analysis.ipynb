{
 "cells": [
  {
   "cell_type": "markdown",
   "metadata": {},
   "source": [
    "# Hi-C解析実習\n",
    "  \n",
    "[HiCExplorer](https://hicexplorer.readthedocs.io)パイプラインでHi-C実験データの解析をしてみる。  "
   ]
  },
  {
   "cell_type": "markdown",
   "metadata": {},
   "source": [
    "## 0. HiCExplorerのインストール\n",
    "　\n",
    "  \n",
    "HiCExplorerはpipとcondaでインストールできる...はずだったが、HiCExplorerがpipのサポートを切ってしまった...   \n",
    "仕方ないのでcondaでインストールする。   \n",
    "condaで環境を汚すのが嫌な場合はpyenvで適当に環境を切ってminicondaなどインストールする。  "
   ]
  },
  {
   "cell_type": "code",
   "execution_count": 2,
   "metadata": {},
   "outputs": [],
   "source": [
    "#!conda install hicexplorer -c bioconda -c conda-forge"
   ]
  },
  {
   "cell_type": "markdown",
   "metadata": {},
   "source": [
    "## 1. データのダウンロード\n",
    "　\n",
    "   \n",
    "扱うデータは、[Wibke Schwarzer, Nezar Abdennur, Anton Goloborodko, et al. Nature (2017)](https://www.nature.com/articles/nature24281)（以下、Schwarzer2017）。  \n",
    "この論文では、コヒーシンの染色体高次構造形成への影響を調べるため、コヒーシンをクロマチンにロードする役割を持つNIPBLを欠損させたマウスの肝細胞でHi-Cを行なっている。   \n",
    "コヒーシンが染色体から外れてしまっているので、構造はだいぶ異なるはず。   \n",
    "この実習では、（ほんとはfloxと比較すべきだけど）野生型とΔNipblで染色体構造がどのように異なるか、それと、論文の図を再現できるかを、公共データベースに公開されているシーケンスデータから自分で解析して確かめてみる。   \n",
    "\n",
    "\n",
    "<img src=\"data/images/experimental_design.png\" width=200 align=\"left\"><br>\n",
    "　Schwarzer2017, Fig.1より"
   ]
  },
  {
   "cell_type": "markdown",
   "metadata": {},
   "source": [
    "まずはデータのダウンロード。  \n",
    "WTのサンプルである**SRR5168118**, ΔNipblサンプルである**SRR5168150**それぞれについて、以下のようにしてEMBL-EBI ENAからデータを取ってくる。  \n",
    "（fastq-dumpでもいいが個人的にはENAの方が探しやすいしなんか安心感があって好き）   \n",
    "  \n",
    "実際はそれぞれのサンプル数億本のリード数（x 複数レプリケイト）だが、実習の時間的環境的都合上、ここで扱うのはそのほんの一部（SRR5168118: 18,063,305本、SRR5168150: 17,105,434本）のみ。  \n",
    "Hi-C解析はリード数が結果の解像度に直結するので、数千万本程度だと、かなり粗い結果しか得られないことに注意。"
   ]
  },
  {
   "cell_type": "code",
   "execution_count": 7,
   "metadata": {},
   "outputs": [],
   "source": [
    "%%bash\n",
    "# 実習ではダウンロード済み\n",
    "wget -O SRR5168118_1.fastq.gz ftp://ftp.sra.ebi.ac.uk/vol1/fastq/SRR516/008/SRR5168118/SRR5168118_1.fastq.gz\n",
    "wget -O SRR5168118_2.fastq.gz ftp://ftp.sra.ebi.ac.uk/vol1/fastq/SRR516/008/SRR5168118/SRR5168118_2.fastq.gz\n",
    "\n",
    "wget -O SRR5168150_1.fastq.gz ftp://ftp.sra.ebi.ac.uk/vol1/fastq/SRR516/000/SRR5168150/SRR5168150_1.fastq.gz\n",
    "wget -O SRR5168150_2.fastq.gz ftp://ftp.sra.ebi.ac.uk/vol1/fastq/SRR516/000/SRR5168150/SRR5168150_2.fastq.gz"
   ]
  },
  {
   "cell_type": "markdown",
   "metadata": {},
   "source": [
    "## 2. マッピング\n",
    "マウスのデータなので、mm10（[GRCm38](https://www.ncbi.nlm.nih.gov/assembly/GCF_000001635.20/)）ゲノム配列にマッピングする。  \n",
    "他のXX-seqデータと違って、Hi-C解析に特有の注意点がいくつかある。  \n",
    "+ マッパーによっては、ペアエンドファイルを入力するとインサートサイズを適当に仮定してすばやく検索するヒューリスティックが起動してしまう。Hi-Cデータの場合ペアはゲノム上ですごく遠い場所（あるいは別の染色体）に由来するかもしれない。なので、R1とR2は個別にマッピングする。\n",
    "+ ローカルアラインメントをする。グローバルアラインメントはダメ。Hi-Cリードは本質的にligation productで、chimeric sequenceなため。\n",
    "+ アラインメントのパラメータを適切に調整する。HiCExplorerでは、BWAマッピングの場合は以下が推奨されている。\n",
    "    - -A1 マッチスコア。1に設定（デフォルト）\n",
    "    - -B4 ミスマッチペナルティ。4に設定（デフォルト）\n",
    "    - -O6 ギャップ開始ペナルティ。6に設定（デフォルト）\n",
    "    - -E50 ギャップ伸長ペナルティ。デフォルトは1だが、ずっと大きく50にする。\n",
    "    - -L0 クリッピングペナルティ。5'側あるいは3'側にSmith-Watermanのスコア計算を伸ばしていって、ベストスコアのところで止めるか端っこまで到達させるかを調整するペナルティ。これが大きいとグローバルアラインメントになりやすい。デフォルトは5だが、これをゼロに設定。\n",
    "    - 以上の設定にすればローカルアラインメントが得られやすくなる。  "
   ]
  },
  {
   "cell_type": "code",
   "execution_count": 6,
   "metadata": {},
   "outputs": [],
   "source": [
    "%%bash\n",
    "#マッピングも時間の関係で省略\n",
    "datadir=data\n",
    "reffile=mm10.fa\n",
    "\n",
    "bwa index ${reffile}\n",
    "\n",
    "for srr_id in \"SRR5168118\" \"SRR5168150\"\n",
    "do\n",
    "    echo $srr_id\n",
    "    infile_1=${datadir}/${srr_id}_1.fastq.gz\n",
    "    infile_2=${datadir}/${srr_id}_2.fastq.gz\n",
    "    bwa mem -A1 -B4  -E50 -L0 $reffile \\\n",
    "        $infile_1 2>> ${srr_id}.r1.log | samtools view -Shb - > ${datadir}/${srr_id}_R1.bam\n",
    "    bwa mem -A1 -B4  -E50 -L0 $reffile \\\n",
    "        $infile_2 2>> ${srr_id}.r2.log | samtools view -Shb - > ${datadir}/${srr_id}_R2.bam\n",
    "done"
   ]
  },
  {
   "cell_type": "markdown",
   "metadata": {},
   "source": [
    "## 3. リードのフィルタリングとコンタクトマップの構築\n",
    "\n",
    "マッピングされたペアのすべたがHi-Cのコンタクト情報として使えるわけではない。  \n",
    "以下のように様々な理由で「コンタクト」を反映していないペアが存在する。  \n",
    "不適切なペアは、マッピングのパターン、すなわちマッピングされたStrand（= orientation）や、実験に使った制限酵素の認識配列の位置との関係などから判断することができる。  \n",
    "\n",
    "<img src=\"data/images/pair_mapping_patterns.png\" width=600 align=\"left\"><br>\n",
    "　Imakaev, Maxim, et al. \"Iterative correction of Hi-C data reveals hallmarks of chromosome organization.” Nature methods 9.10 (2012): 999-1003.より"
   ]
  },
  {
   "cell_type": "markdown",
   "metadata": {},
   "source": [
    "そこで、R1.bam, R2.bamから、valid-pairの情報のみを抽出し、さらに指定した解像度（Binサイズ）でコンタクトマップのデータとしてマッピングの位置情報を集計する。  \n",
    "それを一気にやってくれるのが HiCExplorer の ```hicBuildMatrix``` コマンド。"
   ]
  },
  {
   "cell_type": "code",
   "execution_count": 1,
   "metadata": {},
   "outputs": [],
   "source": [
    "%%bash\n",
    "#このプロセスも、数ギガバイトのbamファイルをダウンロードさせるのがきつかったのでスキップ。実際に計算するのは次から。\n",
    "outdir=data/build_matrix\n",
    "for srr_id in \"SRR5168118\" \"SRR5168150\"\n",
    "do\n",
    "    echo $srr_id\n",
    "    infile_1=data/${srr_id}_R1.bam\n",
    "    infile_2=data/${srr_id}_R2.bam\n",
    "\n",
    "    qcdir=${outdir}/${srr_id}_qc\n",
    "    outfile=${outdir}/${srr_id}_100kb.h5\n",
    "    hicBuildMatrix --samFiles ${infile_1} ${infile_2} \\ # bamファイル、R1とR2を指定。\n",
    "        --binSize 100000 \\ \n",
    "        --restrictionSequence AAGCTT  \\\n",
    "        --danglingSequence AGCT \\\n",
    "        --outFileName ${outfile} \\\n",
    "        --QCfolder ${qcdir_name} \\\n",
    "        --threads 32\n",
    "done\n",
    "\n",
    "# --binSize\n",
    "## コンタクトマップのBinサイズ。この実習ではリード数がめっちゃ少ないので100kbpの粗い解像度。\n",
    "# # 制限酵素認識配列の位置情報をbedファイルで与えることで、\n",
    "# # 制限断片の解像度（不定Binサイズ）のマップを作ることもできる。\n",
    "# --restrictionSequence\n",
    "## 制限酵素認識配列。ここでは、元論文読むとHindIII処理していたので、その認識配列。実験によって異なる。\n",
    "# --danglingSequence\n",
    "## 制限消化したときの突出末端の配列。HindIIIの場合はAGCT。\n",
    "# --outFileName\n",
    "## 結果のコンタクトマップ。デフォルトではHDF5フォーマットで出力される。\n",
    "# --QCfolder\n",
    "## クオリティ情報をまとめて出してくれる。そのディレクトリを指定。\n",
    "# --threads\n",
    "## 計算環境に合わせて適切に..."
   ]
  },
  {
   "cell_type": "markdown",
   "metadata": {},
   "source": [
    "設定したQCディレクトリにさまざまな統計情報を出力してくれている。"
   ]
  },
  {
   "cell_type": "code",
   "execution_count": 24,
   "metadata": {},
   "outputs": [
    {
     "name": "stdout",
     "output_type": "stream",
     "text": [
      "total 712\r\n",
      "-rw-r--r--@ 1 higashi  staff   62554 11 10 05:20 distance.png\r\n",
      "-rw-r--r--@ 1 higashi  staff  112230 11 10 05:21 pairs_discarded.png\r\n",
      "-rw-r--r--@ 1 higashi  staff   59932 11 10 05:22 pairs_sequenced.png\r\n",
      "-rw-r--r--@ 1 higashi  staff   42543 11 10 05:22 read_orientation.png\r\n",
      "-rw-r--r--@ 1 higashi  staff   76873 11 10 05:23 unmappable_and_non_unique.png\r\n"
     ]
    }
   ],
   "source": [
    "!ls -l ./data/build_matrix/SRR5168118_qc/"
   ]
  },
  {
   "cell_type": "markdown",
   "metadata": {},
   "source": [
    "<img src=\"data/build_matrix/SRR5168118_qc/pairs_sequenced.png\" width=600 align=\"left\"><br>\n",
    "　これはvalid-pairの数（コンタクトマップの計算に実際に使われるペア）   \n",
    "　もともと1,750万ペアほどあったのが、800万ペアほどに減っている。"
   ]
  },
  {
   "cell_type": "markdown",
   "metadata": {},
   "source": [
    "<img src=\"data/build_matrix/SRR5168118_qc/unmappable_and_non_unique.png\" width=600 align=\"left\"><br>\n",
    "　全部のペアに対する、マッピングのクオリティなどで基準を通過したペアの割合。"
   ]
  },
  {
   "cell_type": "markdown",
   "metadata": {},
   "source": [
    "<img src=\"data/build_matrix/SRR5168118_qc/pairs_discarded.png\" width=600 align=\"left\"><br>\n",
    "　mappable pairsのうち、「コンタクト」を反映しないダメなペアの割合。これらは除去される。\n",
    " \n",
    " \n"
   ]
  },
  {
   "cell_type": "markdown",
   "metadata": {},
   "source": [
    "+ dangling ends: 制限消化された部位からはじまるリード。ligationに失敗してるやつ。\n",
    "+ duplicated pairs: 同じ位置にマッピングされるペア。PCR増幅の疑い\n",
    "+ same fragment: 800bp以内の距離で →　← の方向でマッピングされるペア。同じ制限断片に由来\n",
    "+ self circle: 25kbp以内の距離で ←　→ の方向でマッピングされるペア。自己環状化断片の疑い。\n",
    "+ self ligation: same fragmentと同じだが、内部に制限酵素認識サイトあり。同じ位置で開いて閉じたやつ。"
   ]
  },
  {
   "cell_type": "markdown",
   "metadata": {},
   "source": [
    "<img src=\"data/build_matrix/SRR5168118_qc/distance.png\" width=600 align=\"left\"><br>\n",
    "最終的にコンタクトマップに集計された「コンタクト」の位置関係。  \n",
    "この図はQCとして重要な情報を含む。  \n",
    "Hi-C実験、うまくいってないと、異常に高い \"inter-chromosomal contact\" （異なる染色体間のコンタクト）割合が観測されることがある。（構造が壊れて染色体間の接触がランダムに観測される）    \n",
    "このサンプルの場合は、25%程度なのでまあまあ普通のクオリティ。  \n",
    "　\n",
    " "
   ]
  },
  {
   "cell_type": "markdown",
   "metadata": {},
   "source": [
    "<img src=\"data/build_matrix/SRR5168118_qc/read_orientation.png\" width=600 align=\"left\"><br>\n",
    "　最終的にコンタクトマップに集計されたペアリードのマッピングの方向。  \n",
    "　→←、←→、←←、→→の4パターン。  \n",
    "　ちゃんと網羅的に接触がとれてるなら4パターンの割合に偏りはないはず。  \n",
    "　どれかが極端に多い・少ない場合は注意が必要。  \n"
   ]
  },
  {
   "cell_type": "markdown",
   "metadata": {},
   "source": [
    "## 4. コンタクトマップの正規化\n",
    "\n",
    "RNA-seqやメタゲノムなど「一次元データ」の正規化とは異なり、Hi-C解析の場合は二次元データに適した正規化手法を適用する必要がある。  \n",
    "よく使われるのは ICE法（[Imakaev, Maxim, et al. \"Iterative correction of Hi-C data reveals hallmarks of chromosome organization.\" Nature methods 9.10 (2012): 999.](https://www.nature.com/articles/nmeth.2148)）で、matrix balancingと呼ばれる数学的手法の一種。  \n",
    "HiCExplorerにもICE法のfuncitonがあるが、ノイズが爆発することを防ぐために適切に閾値を設定したりちょっと面倒。  \n",
    "より高速なmatrix balancingの手法として、[Knight-Ruiz法](https://pdfs.semanticscholar.org/4f5d/26b58c3ad6697bada5553496c62fc2a91295.pdf)もよく使われる。  \n",
    "```hicCorrectMatrix```コマンドでは、```--correctionMethod KR```と指定することで、Knight-Ruiz法による正規化を実行することができる。"
   ]
  },
  {
   "cell_type": "code",
   "execution_count": 1,
   "metadata": {},
   "outputs": [
    {
     "name": "stdout",
     "output_type": "stream",
     "text": [
      "SRR5168118\n",
      "normalisation factor is 0.0425437\n",
      "SRR5168150\n",
      "normalisation factor is 0.045753\n"
     ]
    },
    {
     "name": "stderr",
     "output_type": "stream",
     "text": [
      "INFO:hicexplorer.hicCorrectMatrix:matrix contains 8891709 data points. Sparsity 0.012.\n",
      "INFO:hicexplorer.hicCorrectMatrix:matrix contains 8570869 data points. Sparsity 0.012.\n"
     ]
    }
   ],
   "source": [
    "%%bash\n",
    "datadir=data/build_matrix\n",
    "outdir=data/correct_matrix\n",
    "for srr_id in \"SRR5168118\" \"SRR5168150\"\n",
    "do\n",
    "    echo $srr_id\n",
    "    matrixfile=${datadir}/${srr_id}_100kb.h5\n",
    "    outfile=${outdir}/${srr_id}_100kb_corrected.h5\n",
    "    hicCorrectMatrix correct \\\n",
    "        --correctionMethod KR \\\n",
    "        --matrix ${matrixfile} \\\n",
    "        --outFileName ${outfile}\n",
    "done"
   ]
  },
  {
   "cell_type": "markdown",
   "metadata": {},
   "source": [
    "## 5. コンタクトマップの描画"
   ]
  },
  {
   "cell_type": "markdown",
   "metadata": {},
   "source": [
    "```hicPlotMatrix```コマンドを使って正規化コンタクトマップを描画してみる。  \n",
    "全体を描画することもできるが、ここでは```--region```オプションで特定の領域だけ。  \n",
    "```--region chr18```などとすると特定の染色体のみ、さらに```chr18:4000000-30000000```などとすることで領域を指定できる。"
   ]
  },
  {
   "cell_type": "code",
   "execution_count": 1,
   "metadata": {},
   "outputs": [
    {
     "name": "stdout",
     "output_type": "stream",
     "text": [
      "SRR5168118\n",
      "SRR5168150\n"
     ]
    },
    {
     "name": "stderr",
     "output_type": "stream",
     "text": [
      "INFO:hicexplorer.hicPlotMatrix:Cooler or no cooler: False\n",
      "INFO:hicexplorer.hicPlotMatrix:min: 4.0007630287383807e-05, max: 552.4967807383185\n",
      "\n",
      "INFO:hicexplorer.hicPlotMatrix:Cooler or no cooler: False\n",
      "INFO:hicexplorer.hicPlotMatrix:min: 1.077573217132815e-07, max: 477.70635569732485\n",
      "\n"
     ]
    }
   ],
   "source": [
    "%%bash\n",
    "datadir=data/correct_matrix\n",
    "outdir=data/plot_matrix\n",
    "\n",
    "for srr_id in \"SRR5168118\" \"SRR5168150\"\n",
    "do\n",
    "    echo $srr_id\n",
    "    matrixfile=${datadir}/${srr_id}_100kb_corrected.h5\n",
    "    outfile=${outdir}/${srr_id}_plot.png\n",
    "    hicPlotMatrix \\\n",
    "        --matrix ${matrixfile} \\\n",
    "        --outFileName ${outfile} \\\n",
    "        --log1p --dpi 300 \\\n",
    "        --region chr18:4000000-30000000\n",
    "done"
   ]
  },
  {
   "cell_type": "markdown",
   "metadata": {},
   "source": [
    "<img src=\"data/plot_matrix/SRR5168118_plot.png\" width=600 align=\"left\"><br>\n",
    "　WTサンプル、chr18の40,000,0000-30,000,000の領域。"
   ]
  },
  {
   "cell_type": "markdown",
   "metadata": {},
   "source": [
    "<img src=\"data/plot_matrix/SRR5168150_plot.png\" width=600 align=\"left\"><br>\n",
    "　ΔNipblサンプル、chr18の40,000,0000-30,000,000の領域。   \n",
    "　あまりWTと差がないように見えるかもしれないけど、よく見ると、対角線のラインの周辺で色が薄い。\n",
    "　数百kbp~数Mbpくらいの距離のコンタクトが少ない傾向にあることがわかる。"
   ]
  },
  {
   "cell_type": "markdown",
   "metadata": {},
   "source": [
    "実際に、ゲノム配列上の「距離」と「コンタクト」との関係を見てみる。  \n",
    "これも、Hi-C関連の論文でよく見る図。コンタクトマップの各行について、対角線上（自分のゲノム座標）から左右に離れるとどの程度コンタクトが減衰するかを平均した図。  \n",
    "HiCExplorerでは、```hicPlotDistVsCounts```コマンドで計算できる。```--maxdepth```オプションで、どれだけ遠くまで見るかを調整する。"
   ]
  },
  {
   "cell_type": "code",
   "execution_count": 14,
   "metadata": {},
   "outputs": [
    {
     "name": "stderr",
     "output_type": "stream",
     "text": [
      "INFO:hicexplorer.hicPlotDistVsCounts:processing chromosome all\n",
      "\n",
      "INFO:hicexplorer.hicPlotDistVsCounts:processing chromosome all\n",
      "\n",
      "INFO:hicexplorer.hicPlotDistVsCounts:The scale factors used are: {'data/correct_matrix/SRR5168118_100kb_corrected.h5': 0.8646319261126053, 'data/correct_matrix/SRR5168150_100kb_corrected.h5': 1.0}\n"
     ]
    }
   ],
   "source": [
    "%%bash\n",
    "datadir=data/correct_matrix\n",
    "data1=${datadir}/SRR5168118_100kb_corrected.h5\n",
    "data2=${datadir}/SRR5168150_100kb_corrected.h5\n",
    "outdir=data/plot_matrix\n",
    "hicPlotDistVsCounts \\\n",
    "    --matrices ${data1} ${data2} \\\n",
    "    --plotFile ${outdir}/dist_count.png \\\n",
    "    --labels 'WT' 'NIPBL' \\\n",
    "    --maxdepth 20000000 \\\n",
    "    --plotsize 5 4.2"
   ]
  },
  {
   "cell_type": "markdown",
   "metadata": {},
   "source": [
    "<img src=\"data/plot_matrix/dist_count.png\" width=600 align=\"left\"><br>\n",
    "　WTサンプルとΔNipblサンプル、やっぱり差があることがわかる。  \n",
    "　ΔNipblサンプルはコンタクトの減りが速い。"
   ]
  },
  {
   "cell_type": "markdown",
   "metadata": {},
   "source": [
    "## 6. A/B コンパートメントの計算\n",
    "　  \n",
    "次に、ゲノム上のA/B compartmentを計算してみる。  \n",
    "A/B compartmentは、コンタクトマップを主成分分析することで発見された染色体の「区画」。  \n",
    "ゲノム上の各Bin（領域）は第一主成分で二極化する傾向がある。それらの2区画が転写活性やオープンクロマチンなどと相関することが知られている。AはAどうしの中で、BはBどうしの中でコンタクトの頻度が高い。  \n",
    "なので、まずは主成分分析（PCA）をしてみる。使うコマンドは```hicPCA```  "
   ]
  },
  {
   "cell_type": "code",
   "execution_count": 5,
   "metadata": {},
   "outputs": [
    {
     "name": "stdout",
     "output_type": "stream",
     "text": [
      "SRR5168118\n",
      "SRR5168150\n"
     ]
    }
   ],
   "source": [
    "%%bash\n",
    "datadir=data/correct_matrix\n",
    "outdir=data/plot_matrix\n",
    "\n",
    "for srr_id in \"SRR5168118\" \"SRR5168150\"\n",
    "do\n",
    "    echo $srr_id\n",
    "    matrixfile=${datadir}/${srr_id}_100kb_corrected.h5\n",
    "    out_pc1=${outdir}/${srr_id}_pc1.bw\n",
    "    out_pc2=${outdir}/${srr_id}_pc2.bw\n",
    "    hicPCA \\\n",
    "        --matrix ${matrixfile} \\\n",
    "        --outputFileName ${out_pc1} ${out_pc2} \\\n",
    "        --format bigwig\n",
    "done"
   ]
  },
  {
   "cell_type": "markdown",
   "metadata": {},
   "source": [
    "ゲノム上の各Binの主成分情報がBigWig形式で出てくるので、それらをコンタクトマップと一緒に描画してみる。"
   ]
  },
  {
   "cell_type": "code",
   "execution_count": 13,
   "metadata": {},
   "outputs": [
    {
     "name": "stdout",
     "output_type": "stream",
     "text": [
      "SRR5168118\n",
      "SRR5168150\n"
     ]
    },
    {
     "name": "stderr",
     "output_type": "stream",
     "text": [
      "INFO:hicexplorer.hicPlotMatrix:Cooler or no cooler: False\n",
      "INFO:hicexplorer.hicPlotMatrix:min: 4.0007630287383807e-05, max: 552.4967807383185\n",
      "\n",
      "INFO:hicexplorer.hicPlotMatrix:Cooler or no cooler: False\n",
      "INFO:hicexplorer.hicPlotMatrix:min: 1.077573217132815e-07, max: 477.70635569732485\n",
      "\n"
     ]
    }
   ],
   "source": [
    "%%bash\n",
    "datadir=data/correct_matrix\n",
    "outdir=data/plot_matrix\n",
    "\n",
    "for srr_id in \"SRR5168118\" \"SRR5168150\"\n",
    "do\n",
    "    echo $srr_id\n",
    "    matrixfile=${datadir}/${srr_id}_100kb_corrected.h5\n",
    "    out_pc1=${outdir}/${srr_id}_pc1.bw\n",
    "    outfile=${outdir}/${srr_id}_pc.png\n",
    "    hicPlotMatrix \\\n",
    "        --matrix ${matrixfile} \\\n",
    "        --outFileName ${outfile} \\\n",
    "        --log1p --dpi 300 \\\n",
    "        --bigwig ${out_pc1} \\\n",
    "        --region chr13:35000000-60000000\n",
    "done"
   ]
  },
  {
   "cell_type": "markdown",
   "metadata": {},
   "source": [
    "<img src=\"data/plot_matrix/SRR5168118_pc.png\" width=600 align=\"left\"><br>\n",
    "　WTサンプル、chr13:35000000-60000000領域。  \n",
    "　Aがプラス・Bがマイナスになるか、逆になるかはデータによって変わる。  \n",
    "　なので、二極化しているどっちがA/Bなのかは他のepigenetic marksと相関とるなどして判断する。"
   ]
  },
  {
   "cell_type": "markdown",
   "metadata": {},
   "source": [
    "<img src=\"data/plot_matrix/SRR5168150_pc.png\" width=600 align=\"left\"><br>\n",
    "　同じ領域のΔNpiblサンプル。  \n",
    "　こっちでは、WTと比較して区画（A/B）が細かい領域で激しく変動しているように見える。  \n",
    "　この傾向は、この領域に限らずゲノム全体で観測される。  \n",
    "　解釈は難しいところだけど、Schwarzer2017では、中距離のコンタクトのまとまり（以下で扱うTADs）が消失してしまったぶん、（動きの自由度が増して）細かなまとまりが多数できてしまったんじゃないかと考察している。  \n",
    "   ↓Schwarzer2017のFig.5より。\n",
    " <img src=\"data/images/tad_compartments.png\" width=400 align=\"right\"><br>"
   ]
  },
  {
   "cell_type": "markdown",
   "metadata": {},
   "source": [
    "## 7. TADs (Topologically associated domains)の計算\n",
    "　  \n",
    "コンタクトマップのデータから、TADを計算してみる。  \n",
    "アルゴリズムの詳細は講義の方で。  \n",
    "HiCExplorerでは```hicFindTADs```コマンドで計算。"
   ]
  },
  {
   "cell_type": "code",
   "execution_count": 7,
   "metadata": {},
   "outputs": [
    {
     "name": "stdout",
     "output_type": "stream",
     "text": [
      "SRR5168118\n",
      "SRR5168150\n"
     ]
    },
    {
     "name": "stderr",
     "output_type": "stream",
     "text": [
      "INFO:hicexplorer.hicFindTADs:\n",
      "Found existing TAD-separation score file: data/tads/SRR5168118_tad_score.bm\n",
      "\n",
      "INFO:hicexplorer.hicFindTADs:This file will be used\n",
      "\n",
      "INFO:hicexplorer.hicFindTADs:Computing p-values for window length: 300000\n",
      "\n",
      "INFO:hicexplorer.hicFindTADs:FDR correction. Number of boundaries for delta 0.01, qval 0.05: 1679\n",
      "INFO:hicexplorer.hicFindTADs:\n",
      "Found existing TAD-separation score file: data/tads/SRR5168150_tad_score.bm\n",
      "\n",
      "INFO:hicexplorer.hicFindTADs:This file will be used\n",
      "\n",
      "INFO:hicexplorer.hicFindTADs:Computing p-values for window length: 300000\n",
      "\n",
      "INFO:hicexplorer.hicFindTADs:FDR correction. Number of boundaries for delta 0.01, qval 0.05: 996\n"
     ]
    }
   ],
   "source": [
    "%%bash\n",
    "datadir=data/correct_matrix\n",
    "outdir=data/tads\n",
    "\n",
    "for srr_id in \"SRR5168118\" \"SRR5168150\"\n",
    "do\n",
    "    echo $srr_id\n",
    "    matrixfile=${datadir}/${srr_id}_100kb_corrected.h5\n",
    "    outfile=${outdir}/${srr_id}\n",
    "    hicFindTADs \\\n",
    "        --matrix ${matrixfile} \\\n",
    "        --minDepth 300000 --maxDepth 600000 --step 100000 \\\n",
    "        --minBoundaryDistance 400000 \\\n",
    "        --correctForMultipleTesting fdr --threshold 0.05 \\\n",
    "        --outPrefix ${outfile}\n",
    "done\n",
    "# --minDepth 300000 --maxDepth 600000 --step 100000 \n",
    "## z-score変換したコンタクトマップのdiagonal上のsliding windowの、\n",
    "## window size、マルチスケール window sizeの指定。\n",
    "## コンタクトマップの解像度に合わせて適切に設定する必要がある。"
   ]
  },
  {
   "cell_type": "markdown",
   "metadata": {},
   "source": [
    "この計算で、TADの位置を示したBEDファイルなどが生成された。  \n",
    "あとは、適当なゲノムブラウザなどで見てみたり。  \n",
    "HiCExplorer使って、コンタクトマップと重ねて描画してみる場合は、```hicPlotTADs```を使う。   \n",
    "[pyGenomeTracks](https://github.com/deeptools/pyGenomeTracks)を使って描画するので、設定ファイル（tracks.ini）を用意したりしなきゃいけないのが若干めんどくさいけど、すごく自由度が高い描画ツールなので、gene trackと一緒に並べたり、他のepigenetic marksのシーケンスデプスのデータと並べたり、いろいろできる。"
   ]
  },
  {
   "cell_type": "code",
   "execution_count": 11,
   "metadata": {},
   "outputs": [
    {
     "name": "stdout",
     "output_type": "stream",
     "text": [
      "[x-axis]\r\n",
      "fontsize=10\r\n",
      "\r\n",
      "[hic]\r\n",
      "file = data/correct_matrix/SRR5168118_100kb_corrected.h5\r\n",
      "title = WT\r\n",
      "colormap = Spectral_r\r\n",
      "depth = 10000000\r\n",
      "min_value = 1\r\n",
      "max_value = 100\r\n",
      "transform = log1p\r\n",
      "x labels = yes\r\n",
      "file_type = hic_matrix\r\n",
      "show_masked_bins = no\r\n",
      "\r\n",
      "[tads]\r\n",
      "file = data/tads/SRR5168118_domains.bed\r\n",
      "file_type = domains\r\n",
      "border color = black\r\n",
      "color = none\r\n",
      "height = 5\r\n",
      "line width = 1.5\r\n",
      "overlay previous = share-y\r\n",
      "show data range = no\r\n",
      "\r\n",
      "[spacer]\r\n",
      "width = 0.1\r\n",
      "\r\n",
      "[hic]\r\n",
      "file = data/correct_matrix/SRR5168150_100kb_corrected.h5\r\n",
      "title = NIPBL\r\n",
      "colormap = Spectral_r\r\n",
      "depth = 10000000\r\n",
      "min_value = 1\r\n",
      "max_value = 100\r\n",
      "transform = log1p\r\n",
      "x labels = yes\r\n",
      "file_type = hic_matrix\r\n",
      "show_masked_bins = no\r\n",
      "\r\n",
      "[tads]\r\n",
      "file = data/tads/SRR5168150_domains.bed\r\n",
      "file_type = domains\r\n",
      "border color = black\r\n",
      "color = none\r\n",
      "height = 5\r\n",
      "line width = 1.5\r\n",
      "overlay previous = share-y\r\n",
      "show data range = no"
     ]
    }
   ],
   "source": [
    "! cat ./data/tads/track.ini"
   ]
  },
  {
   "cell_type": "code",
   "execution_count": 12,
   "metadata": {},
   "outputs": [
    {
     "name": "stderr",
     "output_type": "stream",
     "text": [
      "INFO:pygenometracks.tracksClass:time initializing track(s):\n",
      "INFO:pygenometracks.tracksClass:4.322965145111084\n",
      "DEBUG:pygenometracks.tracksClass:Figure size in cm is 40 x 15.125999999999998. Dpi is set to 300\n",
      "\n",
      "INFO:pygenometracks.tracksClass:plotting 1. [x-axis]\n",
      "INFO:pygenometracks.tracksClass:plotting 2. [hic]\n",
      "INFO:pygenometracks.tracks.GenomeTrack:setting min, max values for track 2. [hic] to: 1, 100\n",
      "\n",
      "INFO:pygenometracks.tracksClass:plotting 3. [tads]\n",
      "INFO:pygenometracks.tracksClass:plotting 4. [spacer]\n",
      "INFO:pygenometracks.tracksClass:plotting 5. [hic]\n",
      "INFO:pygenometracks.tracks.GenomeTrack:setting min, max values for track 5. [hic] to: 1, 100\n",
      "\n",
      "INFO:pygenometracks.tracksClass:plotting 6. [tads]\n"
     ]
    }
   ],
   "source": [
    "%%bash\n",
    "outfile=./data/tads/tads.png\n",
    "inifile=./data/tads/track.ini\n",
    "\n",
    "hicPlotTADs \\\n",
    "    --tracks ${inifile} \\\n",
    "    --region chr12:40000000-70000000 \\\n",
    "    --dpi 300 \\\n",
    "    --outFileName ${outfile}"
   ]
  },
  {
   "cell_type": "markdown",
   "metadata": {},
   "source": [
    "<img src=\"data/tads/tads.png\" width=800 align=\"left\"><br>"
   ]
  },
  {
   "cell_type": "markdown",
   "metadata": {},
   "source": [
    "WTサンプルではまともなサイズのTADsがコールされているが、ΔNipblサンプルではそのようなパターンが失われているのがわかる。"
   ]
  },
  {
   "cell_type": "markdown",
   "metadata": {},
   "source": [
    "## 8. 探索的解析や他のオミックスデータとの比較\n",
    "　  \n",
    "正直、興味のある領域が定まっている場合を別として、いちいち領域指定して描画して比較して...みたいなことはやってられない。   \n",
    "インタラクティブなHi-Cデータビューアを使って、RNA-seqのトラックなどと比較しながら探索することで、構造の変化と機能の変化に気づく、みたいなことがやりたい。   \n",
    "いろいろなビューアがあるが、[HiGlass](https://github.com/higlass/higlass)がめちゃくちゃおすすめ。  \n",
    "複数のコンタクトマップの動きをシンクロさせつつ、他のオミックスデータと連携させつつ、快適に探索的データ解析ができる。また、Dockerコンテナを用意してくれてるので、自前でHiGlass描画サーバ起動して快適に計算ができる。      \n",
    "HiCExplorerで生成したコンタクトマップデータは、```hicConvertFormat```コマンドを使って、Hi-Cデータで広く使われる[cooler形式](https://academic.oup.com/bioinformatics/advance-article/doi/10.1093/bioinformatics/btz540/5530598)に変換できる。また、複数のBinサイズのコンタクトマップを合わせてmulti-resolutionの```.mcool```形式のファイルを生成することもできる。これらのファイルはHiGlassをはじめとした様々なビューアにロードできるので、いろいろと動かしながら、やっぱり最終的には知識を持った研究者が目で見て直感的に判断するのがすごく重要だと思う。"
   ]
  }
 ],
 "metadata": {
  "kernelspec": {
   "display_name": "Python 3",
   "language": "python",
   "name": "python3"
  },
  "language_info": {
   "codemirror_mode": {
    "name": "ipython",
    "version": 3
   },
   "file_extension": ".py",
   "mimetype": "text/x-python",
   "name": "python",
   "nbconvert_exporter": "python",
   "pygments_lexer": "ipython3",
   "version": "3.6.9"
  }
 },
 "nbformat": 4,
 "nbformat_minor": 2
}
