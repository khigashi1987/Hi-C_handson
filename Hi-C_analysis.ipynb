{
 "cells": [
  {
   "cell_type": "markdown",
   "metadata": {},
   "source": [
    "# Hi-C解析実習\n",
    "  \n",
    "[HiCExplorer](https://hicexplorer.readthedocs.io)パイプラインでHi-C実験データの解析をしてみる。  "
   ]
  },
  {
   "cell_type": "markdown",
   "metadata": {},
   "source": [
    "## 0. HiCExplorerのインストール\n",
    "\n",
    "\n",
    "\n",
    "\n",
    "\n",
    "\n"
   ]
  },
  {
   "cell_type": "code",
   "execution_count": 2,
   "metadata": {},
   "outputs": [],
   "source": [
    "#!conda install hicexplorer -c bioconda -c conda-forge"
   ]
  },
  {
   "cell_type": "markdown",
   "metadata": {},
   "source": [
    "## 1. データのダウンロード\n",
    "扱うデータは、[Wibke Schwarzer, Nezar Abdennur, Anton Goloborodko, et al. Nature (2017)](https://www.nature.com/articles/nature24281)（以下、Schwarzer2017）。  \n",
    "この論文では、コヒーシンの染色体高次構造形成への影響を調べるため、コヒーシンをクロマチンにロードする役割を持つNIPBLを欠損させたマウスの肝細胞でHi-Cを行なっている。   \n",
    "コヒーシンが染色体から外れてしまっているので、構造はだいぶ異なるはず。   \n",
    "この実習では、（ほんとはfloxと比較すべきだけど）野生型とΔNipblで染色体構造がどのように異なるか、それと、論文の図を再現できるかを、公共データベースに公開されているシーケンスデータから自分で解析して確かめてみる。   \n",
    "\n",
    "\n",
    "<img src=\"data/images/experimental_design.png\" width=200 align=\"left\"><br>\n",
    "　Schwarzer2017, Fig.1より"
   ]
  },
  {
   "cell_type": "markdown",
   "metadata": {},
   "source": [
    "まずはデータのダウンロード。  \n",
    "WTのサンプルである**SRR5168118**, ΔNipblサンプルである**SRR5168150**それぞれについて、以下のようにしてEMBL-EBI ENAからデータを取ってくる。  \n",
    "（fastq-dumpでもいいが個人的にはENAの方がなんか安心感があって好き）   \n",
    "  \n",
    "実際はそれぞれのサンプル数億本のリード数（x 複数レプリケイト）だが、実習の時間的環境的都合上、ここで扱うのはそのほんの一部（SRR5168118: 18,063,305本、SRR5168150: 17,105,434本）のみ。  \n",
    "Hi-C解析はリード数が結果の解像度に直結するので、数千万本程度だと、かなり粗い結果しか得られないことに注意。"
   ]
  },
  {
   "cell_type": "code",
   "execution_count": 7,
   "metadata": {},
   "outputs": [],
   "source": [
    "%%bash\n",
    "<< SKIP # 実習ではダウンロード済み\n",
    "wget -O SRR5168118_1.fastq.gz ftp://ftp.sra.ebi.ac.uk/vol1/fastq/SRR516/008/SRR5168118/SRR5168118_1.fastq.gz\n",
    "wget -O SRR5168118_2.fastq.gz ftp://ftp.sra.ebi.ac.uk/vol1/fastq/SRR516/008/SRR5168118/SRR5168118_2.fastq.gz\n",
    "\n",
    "wget -O SRR5168150_1.fastq.gz ftp://ftp.sra.ebi.ac.uk/vol1/fastq/SRR516/000/SRR5168150/SRR5168150_1.fastq.gz\n",
    "wget -O SRR5168150_2.fastq.gz ftp://ftp.sra.ebi.ac.uk/vol1/fastq/SRR516/000/SRR5168150/SRR5168150_2.fastq.gz\n",
    "SKIP"
   ]
  },
  {
   "cell_type": "markdown",
   "metadata": {},
   "source": [
    "## 2. マッピング\n",
    "マウスのデータなので、mm10（[GRCm38](https://www.ncbi.nlm.nih.gov/assembly/GCF_000001635.20/)）ゲノム配列にマッピングする。  \n",
    "他のXX-seqデータと違って、Hi-C解析に特有の注意点がいくつかある。  \n",
    "+ マッパーによっては、ペアエンドファイルを入力するとインサートサイズを適当に仮定してすばやく検索するヒューリスティックが起動してしまう。Hi-Cデータの場合ペアはゲノム上ですごく遠い場所（あるいは別の染色体）に由来するかもしれない。なので、R1とR2は個別にマッピングする。\n",
    "+ ローカルアラインメントをする。グローバルアラインメントはダメ。Hi-Cリードは本質的にligation productで、chimeric sequenceなため。\n",
    "+ アラインメントのパラメータを適切に調整する。HiCExplorerでは、BWAマッピングの場合は以下が推奨されている。\n",
    "    - -A1 マッチスコア。1に設定（デフォルト）\n",
    "    - -B4 ミスマッチペナルティ。4に設定（デフォルト）\n",
    "    - -O6 ギャップ開始ペナルティ。6に設定（デフォルト）\n",
    "    - -E50 ギャップ伸長ペナルティ。デフォルトは1だが、ずっと大きく50にする。\n",
    "    - -L0 クリッピングペナルティ。5'側あるいは3'側にSmith-Watermanのスコア計算を伸ばしていって、ベストスコアのところで止めるか端っこまで到達させるかを調整するペナルティ。これが大きいとグローバルアラインメントになりやすい。デフォルトは5だが、これをゼロに設定。\n",
    "    - 以上の設定にすればローカルアラインメントが得られやすくなる。  "
   ]
  },
  {
   "cell_type": "code",
   "execution_count": 6,
   "metadata": {},
   "outputs": [],
   "source": [
    "%%bash\n",
    "<< SKIP #マッピングも時間の関係で省略\n",
    "datadir=data\n",
    "reffile=mm10.fa\n",
    "\n",
    "bwa index ${reffile}\n",
    "\n",
    "for srr_id in \"SRR5168118\" \"SRR5168150\"\n",
    "do\n",
    "    echo $srr_id\n",
    "    infile_1=${datadir}/${srr_id}_1.fastq.gz\n",
    "    infile_2=${datadir}/${srr_id}_2.fastq.gz\n",
    "    bwa mem -A1 -B4  -E50 -L0 $reffile \\\n",
    "        $infile_1 2>> ${srr_id}.r1.log | samtools view -Shb - > ${datadir}/${srr_id}_R1.bam\n",
    "    bwa mem -A1 -B4  -E50 -L0 $reffile \\\n",
    "        $infile_2 2>> ${srr_id}.r2.log | samtools view -Shb - > ${datadir}/${srr_id}_R2.bam\n",
    "done\n",
    "SKIP"
   ]
  },
  {
   "cell_type": "markdown",
   "metadata": {},
   "source": [
    "## 3. リードのフィルタリングとコンタクトマップの構築\n",
    "\n",
    "マッピングされたペアのすべたがHi-Cのコンタクト情報として使えるわけではない。  \n",
    "以下のように様々な理由で「コンタクト」を反映していないペアが存在する。  \n",
    "不適切なペアは、マッピングのパターン、すなわちマッピングされたStrand（= orientation）や、実験に使った制限酵素の認識配列の位置との関係などから判断することができる。  \n",
    "\n",
    "<img src=\"data/images/pair_mapping_patterns.png\" width=600 align=\"left\"><br>\n",
    "　Imakaev, Maxim, et al. \"Iterative correction of Hi-C data reveals hallmarks of chromosome organization.” Nature methods 9.10 (2012): 999-1003.より"
   ]
  },
  {
   "cell_type": "markdown",
   "metadata": {},
   "source": [
    "そこで、R1.bam, R2.bamから、valid-pairの情報のみを抽出し、さらに指定した解像度（Binサイズ）でコンタクトマップのデータとしてマッピングの位置情報を集計する。  \n",
    "それを一気にやってくれるのが HiCExplorer の ```hicBuildMatrix``` コマンド。"
   ]
  },
  {
   "cell_type": "code",
   "execution_count": 20,
   "metadata": {},
   "outputs": [],
   "source": [
    "%%bash\n",
    "<< SKIP #このプロセスも、数ギガバイトのbamファイルをダウンロードさせるのがきつかったのでスキップ。実際に計算するのは次から。\n",
    "outdir=data/build_matrix\n",
    "for srr_id in \"SRR5168118\" \"SRR5168150\"\n",
    "do\n",
    "    echo $srr_id\n",
    "    infile_1=data/${srr_id}_R1.bam\n",
    "    infile_2=data/${srr_id}_R2.bam\n",
    "\n",
    "    qcdir=${outdir}/${srr_id}_qc\n",
    "    outfile=${outdir}/${srr_id}_100kb.h5\n",
    "    hicBuildMatrix --samFiles ${infile_1} ${infile_2} \\ # bamファイル、R1とR2を指定。\n",
    "        --binSize 100000 \\ # コンタクトマップのBinサイズ。この実習ではリード数がめっちゃ少ないので100kbpの粗い解像度。\n",
    "                                      #  制限酵素認識配列の位置情報をbedファイルで与えることで、制限断片の解像度（不定Binサイズ）のマップを作ることもできる。\n",
    "        --restrictionSequence AAGCTT  \\　# 制限酵素認識配列。論文読むとHindIII処理していたので、その認識配列。実験によって異なる。\n",
    "        --danglingSequence AGCT \\ # 制限消化したときの突出末端の配列。HindIIIの場合はAGCT。\n",
    "        --outFileName ${outfile} \\ # 結果のコンタクトマップ。HDF5フォーマット。\n",
    "        --QCfolder ${qcdir_name} \\ # クオリティ情報をまとめて出してくれる。そのディレクトリを指定。\n",
    "        --threads 32 # 計算環境に合わせて適切に...\n",
    "done\n",
    "SKIP"
   ]
  },
  {
   "cell_type": "markdown",
   "metadata": {},
   "source": [
    "設定したQCディレクトリにさまざまな統計情報を出力してくれている。"
   ]
  },
  {
   "cell_type": "code",
   "execution_count": 24,
   "metadata": {},
   "outputs": [
    {
     "name": "stdout",
     "output_type": "stream",
     "text": [
      "total 712\r\n",
      "-rw-r--r--@ 1 higashi  staff   62554 11 10 05:20 distance.png\r\n",
      "-rw-r--r--@ 1 higashi  staff  112230 11 10 05:21 pairs_discarded.png\r\n",
      "-rw-r--r--@ 1 higashi  staff   59932 11 10 05:22 pairs_sequenced.png\r\n",
      "-rw-r--r--@ 1 higashi  staff   42543 11 10 05:22 read_orientation.png\r\n",
      "-rw-r--r--@ 1 higashi  staff   76873 11 10 05:23 unmappable_and_non_unique.png\r\n"
     ]
    }
   ],
   "source": [
    "!ls -l ./data/build_matrix/SRR5168118_qc/"
   ]
  },
  {
   "cell_type": "markdown",
   "metadata": {},
   "source": [
    "<img src=\"data/build_matrix/SRR5168118_qc/pairs_sequenced.png\" width=600 align=\"left\"><br>\n",
    "　これはvalid-pairの数（コンタクトマップの計算に実際に使われるペア）   \n",
    "　もともと1,750万ペアほどあったのが、800万ペアほどに減っている。"
   ]
  },
  {
   "cell_type": "markdown",
   "metadata": {},
   "source": [
    "<img src=\"data/build_matrix/SRR5168118_qc/unmappable_and_non_unique.png\" width=600 align=\"left\"><br>\n",
    "　全部のペアに対する、マッピングのクオリティなどで基準を通過したペアの割合。"
   ]
  },
  {
   "cell_type": "markdown",
   "metadata": {},
   "source": [
    "<img src=\"data/build_matrix/SRR5168118_qc/pairs_discarded.png\" width=600 align=\"left\"><br>\n",
    "　mappable pairsのうち、「コンタクト」を反映しないダメなペアの割合。これらは除去される。\n",
    " \n",
    " \n"
   ]
  },
  {
   "cell_type": "markdown",
   "metadata": {},
   "source": [
    "+ dangling ends: 制限消化された部位からはじまるリード。ligationに失敗してるやつ。\n",
    "+ duplicated pairs: 同じ位置にマッピングされるペア。PCR増幅の疑い\n",
    "+ same fragment: 800bp以内の距離で →　← の方向でマッピングされるペア。同じ制限断片に由来\n",
    "+ self circle: 25kbp以内の距離で ←　→ の方向でマッピングされるペア。自己環状化断片の疑い。\n",
    "+ self ligation: same fragmentと同じだが、内部に制限酵素認識サイトあり。同じ位置で開いて閉じたやつ。"
   ]
  },
  {
   "cell_type": "markdown",
   "metadata": {},
   "source": [
    "<img src=\"data/build_matrix/SRR5168118_qc/distance.png\" width=600 align=\"left\"><br>\n",
    "最終的にコンタクトマップに集計された「コンタクト」の位置関係。  \n",
    "この図はQCとして重要な情報を含む。  \n",
    "Hi-C実験、うまくいってないと、異常に高い \"inter-chromosomal contact\" （異なる染色体間のコンタクト）割合が観測されることがある。（構造が壊れて染色体間の接触がランダムに観測される）    \n",
    "このサンプルの場合は、25%程度なのでまあまあ普通のクオリティ。  \n",
    "　\n",
    " "
   ]
  },
  {
   "cell_type": "markdown",
   "metadata": {},
   "source": [
    "<img src=\"data/build_matrix/SRR5168118_qc/read_orientation.png\" width=600 align=\"left\"><br>\n",
    "　最終的にコンタクトマップに集計されたペアリードのマッピングの方向。  \n",
    "　→←、←→、←←、→→の4パターン。  \n",
    "　ちゃんと網羅的に接触がとれてるなら4パターンの割合に偏りはないはず。  \n",
    "　どれかが極端に多い・少ない場合は注意が必要。  \n"
   ]
  },
  {
   "cell_type": "markdown",
   "metadata": {},
   "source": [
    "## 4. コンタクトマップの正規化\n",
    "\n",
    "RNA-seqやメタゲノムなど「一次元データ」の正規化とは異なり、Hi-C解析の場合は二次元データに適した正規化手法を適用する必要がある。  \n",
    "よく使われるのは ICE法（[Imakaev, Maxim, et al. \"Iterative correction of Hi-C data reveals hallmarks of chromosome organization.\" Nature methods 9.10 (2012): 999.](https://www.nature.com/articles/nmeth.2148)）で、matrix balancingと呼ばれる数学的手法の一種。  \n",
    "HiCExplorerにもICE法のfuncitonがあるが、ノイズが爆発することを防ぐために適切に閾値を設定したりちょっと面倒。  \n",
    "より高速なmatrix balancingの手法として、[Knight-Ruiz法](https://pdfs.semanticscholar.org/4f5d/26b58c3ad6697bada5553496c62fc2a91295.pdf)もよく使われる。  \n",
    "```hicCorrectMatrix```コマンドでは、```--correctionMethod KR```と指定することで、Knight-Ruiz法による正規化を実行することができる。"
   ]
  },
  {
   "cell_type": "code",
   "execution_count": 1,
   "metadata": {},
   "outputs": [
    {
     "name": "stdout",
     "output_type": "stream",
     "text": [
      "SRR5168118\n",
      "normalisation factor is 0.0425437\n",
      "SRR5168150\n",
      "normalisation factor is 0.045753\n"
     ]
    },
    {
     "name": "stderr",
     "output_type": "stream",
     "text": [
      "INFO:hicexplorer.hicCorrectMatrix:matrix contains 8891709 data points. Sparsity 0.012.\n",
      "INFO:hicexplorer.hicCorrectMatrix:matrix contains 8570869 data points. Sparsity 0.012.\n"
     ]
    }
   ],
   "source": [
    "%%bash\n",
    "datadir=data/build_matrix\n",
    "outdir=data/correct_matrix\n",
    "for srr_id in \"SRR5168118\" \"SRR5168150\"\n",
    "do\n",
    "    echo $srr_id\n",
    "    matrixfile=${datadir}/${srr_id}_100kb.h5\n",
    "    outfile=${outdir}/${srr_id}_100kb_corrected.h5\n",
    "    hicCorrectMatrix correct \\\n",
    "        --correctionMethod KR \\\n",
    "        --matrix ${matrixfile} \\\n",
    "        --outFileName ${outfile}\n",
    "done"
   ]
  },
  {
   "cell_type": "markdown",
   "metadata": {},
   "source": [
    "## 5. コンタクトマップの描画とA/Bコンパートメント計算"
   ]
  },
  {
   "cell_type": "code",
   "execution_count": null,
   "metadata": {},
   "outputs": [],
   "source": []
  },
  {
   "cell_type": "code",
   "execution_count": null,
   "metadata": {},
   "outputs": [],
   "source": []
  },
  {
   "cell_type": "code",
   "execution_count": null,
   "metadata": {},
   "outputs": [],
   "source": []
  },
  {
   "cell_type": "code",
   "execution_count": null,
   "metadata": {},
   "outputs": [],
   "source": []
  },
  {
   "cell_type": "code",
   "execution_count": null,
   "metadata": {},
   "outputs": [],
   "source": []
  },
  {
   "cell_type": "code",
   "execution_count": null,
   "metadata": {},
   "outputs": [],
   "source": []
  },
  {
   "cell_type": "code",
   "execution_count": null,
   "metadata": {},
   "outputs": [],
   "source": []
  },
  {
   "cell_type": "code",
   "execution_count": null,
   "metadata": {},
   "outputs": [],
   "source": []
  },
  {
   "cell_type": "code",
   "execution_count": null,
   "metadata": {},
   "outputs": [],
   "source": []
  }
 ],
 "metadata": {
  "kernelspec": {
   "display_name": "Python 3",
   "language": "python",
   "name": "python3"
  },
  "language_info": {
   "codemirror_mode": {
    "name": "ipython",
    "version": 3
   },
   "file_extension": ".py",
   "mimetype": "text/x-python",
   "name": "python",
   "nbconvert_exporter": "python",
   "pygments_lexer": "ipython3",
   "version": "3.6.9"
  }
 },
 "nbformat": 4,
 "nbformat_minor": 2
}
